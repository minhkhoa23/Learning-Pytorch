{
 "cells": [
  {
   "cell_type": "markdown",
   "id": "c66303f7",
   "metadata": {},
   "source": [
    "# Pytorch Fundamentals"
   ]
  },
  {
   "cell_type": "markdown",
   "id": "64df1f78",
   "metadata": {},
   "source": [
    "## import pytorch"
   ]
  },
  {
   "cell_type": "code",
   "execution_count": 1,
   "id": "11c8f92d",
   "metadata": {},
   "outputs": [],
   "source": [
    "import torch"
   ]
  },
  {
   "cell_type": "code",
   "execution_count": 2,
   "id": "850d5f4a",
   "metadata": {},
   "outputs": [
    {
     "data": {
      "text/plain": [
       "'2.5.1'"
      ]
     },
     "execution_count": 2,
     "metadata": {},
     "output_type": "execute_result"
    }
   ],
   "source": [
    "torch.__version__"
   ]
  },
  {
   "cell_type": "markdown",
   "id": "7e71fe05",
   "metadata": {},
   "source": [
    "## Tensor\n",
    "\n",
    "tensor là nền tảng block building trong ML"
   ]
  },
  {
   "cell_type": "markdown",
   "id": "4a4b9607",
   "metadata": {},
   "source": [
    "creating tensors\n",
    "### scalar\n",
    "scalar được khởi tạo là một số đơn và trong tensor gọi là tensor không chiều"
   ]
  },
  {
   "cell_type": "code",
   "execution_count": 3,
   "id": "10972933",
   "metadata": {},
   "outputs": [
    {
     "data": {
      "text/plain": [
       "tensor(7)"
      ]
     },
     "execution_count": 3,
     "metadata": {},
     "output_type": "execute_result"
    }
   ],
   "source": [
    "scalar = torch.tensor(7)\n",
    "scalar"
   ]
  },
  {
   "cell_type": "code",
   "execution_count": 4,
   "id": "06834524",
   "metadata": {},
   "outputs": [
    {
     "data": {
      "text/plain": [
       "0"
      ]
     },
     "execution_count": 4,
     "metadata": {},
     "output_type": "execute_result"
    }
   ],
   "source": [
    "scalar.ndim"
   ]
  },
  {
   "cell_type": "markdown",
   "id": "051752d0",
   "metadata": {},
   "source": [
    "Để lấy số trong scalar, ta dùng item()"
   ]
  },
  {
   "cell_type": "code",
   "execution_count": 9,
   "id": "fdf4ba75",
   "metadata": {},
   "outputs": [
    {
     "data": {
      "text/plain": [
       "7"
      ]
     },
     "execution_count": 9,
     "metadata": {},
     "output_type": "execute_result"
    }
   ],
   "source": [
    "scalar.item()"
   ]
  },
  {
   "cell_type": "markdown",
   "id": "4c4c2675",
   "metadata": {},
   "source": [
    "### vector\n",
    "\n",
    "vector là tensor có một chiều, có thể chứa nhiều số"
   ]
  },
  {
   "cell_type": "code",
   "execution_count": 6,
   "id": "b37132c5",
   "metadata": {},
   "outputs": [
    {
     "data": {
      "text/plain": [
       "tensor([7, 7])"
      ]
     },
     "execution_count": 6,
     "metadata": {},
     "output_type": "execute_result"
    }
   ],
   "source": [
    "vector = torch.tensor([7, 7])\n",
    "vector"
   ]
  },
  {
   "cell_type": "code",
   "execution_count": 7,
   "id": "c47a9170",
   "metadata": {},
   "outputs": [
    {
     "data": {
      "text/plain": [
       "1"
      ]
     },
     "execution_count": 7,
     "metadata": {},
     "output_type": "execute_result"
    }
   ],
   "source": [
    "vector.ndim"
   ]
  },
  {
   "cell_type": "code",
   "execution_count": 10,
   "id": "58c07b46",
   "metadata": {},
   "outputs": [
    {
     "data": {
      "text/plain": [
       "torch.Size([2])"
      ]
     },
     "execution_count": 10,
     "metadata": {},
     "output_type": "execute_result"
    }
   ],
   "source": [
    "vector.shape"
   ]
  },
  {
   "cell_type": "markdown",
   "id": "1b4c735a",
   "metadata": {},
   "source": [
    "### matrix"
   ]
  },
  {
   "cell_type": "code",
   "execution_count": 12,
   "id": "fbfbc9a1",
   "metadata": {},
   "outputs": [
    {
     "data": {
      "text/plain": [
       "tensor([[1, 2],\n",
       "        [2, 3]])"
      ]
     },
     "execution_count": 12,
     "metadata": {},
     "output_type": "execute_result"
    }
   ],
   "source": [
    "MATRIX = torch.tensor([[1, 2] , [2, 3]])\n",
    "MATRIX"
   ]
  },
  {
   "cell_type": "code",
   "execution_count": 13,
   "id": "a10799aa",
   "metadata": {},
   "outputs": [
    {
     "data": {
      "text/plain": [
       "2"
      ]
     },
     "execution_count": 13,
     "metadata": {},
     "output_type": "execute_result"
    }
   ],
   "source": [
    "MATRIX.ndim"
   ]
  },
  {
   "cell_type": "code",
   "execution_count": 14,
   "id": "160511c6",
   "metadata": {},
   "outputs": [
    {
     "data": {
      "text/plain": [
       "torch.Size([2, 2])"
      ]
     },
     "execution_count": 14,
     "metadata": {},
     "output_type": "execute_result"
    }
   ],
   "source": [
    "MATRIX.shape"
   ]
  },
  {
   "cell_type": "markdown",
   "id": "0f8415d6",
   "metadata": {},
   "source": [
    "### tensor"
   ]
  },
  {
   "cell_type": "code",
   "execution_count": 16,
   "id": "7e08a9ef",
   "metadata": {},
   "outputs": [
    {
     "data": {
      "text/plain": [
       "tensor([[[1, 2, 3],\n",
       "         [4, 5, 6],\n",
       "         [7, 8, 9]]])"
      ]
     },
     "execution_count": 16,
     "metadata": {},
     "output_type": "execute_result"
    }
   ],
   "source": [
    "TENSOR = torch.tensor([[[1, 2, 3], [4, 5, 6], [7, 8, 9]]])\n",
    "TENSOR"
   ]
  },
  {
   "cell_type": "code",
   "execution_count": 17,
   "id": "06fac870",
   "metadata": {},
   "outputs": [
    {
     "data": {
      "text/plain": [
       "3"
      ]
     },
     "execution_count": 17,
     "metadata": {},
     "output_type": "execute_result"
    }
   ],
   "source": [
    "TENSOR.ndim"
   ]
  },
  {
   "cell_type": "code",
   "execution_count": 18,
   "id": "efd395e4",
   "metadata": {},
   "outputs": [
    {
     "data": {
      "text/plain": [
       "torch.Size([1, 3, 3])"
      ]
     },
     "execution_count": 18,
     "metadata": {},
     "output_type": "execute_result"
    }
   ],
   "source": [
    "TENSOR.shape"
   ]
  },
  {
   "cell_type": "markdown",
   "id": "6b470500",
   "metadata": {},
   "source": [
    "### random tensor\n",
    "\n",
    "Mình có thể dùng hàm rand của torch để tạo một tensor với các số random từ 0 -> 1"
   ]
  },
  {
   "cell_type": "code",
   "execution_count": 20,
   "id": "0c59b4f3",
   "metadata": {},
   "outputs": [
    {
     "data": {
      "text/plain": [
       "(tensor([[0.6429, 0.1990, 0.4718, 0.8641, 0.5576],\n",
       "         [0.5655, 0.5766, 0.4315, 0.9393, 0.0634],\n",
       "         [0.4273, 0.7704, 0.4456, 0.1185, 0.4247],\n",
       "         [0.9679, 0.8731, 0.2325, 0.8786, 0.3246],\n",
       "         [0.6814, 0.5550, 0.8704, 0.0850, 0.8041]]),\n",
       " torch.float32)"
      ]
     },
     "execution_count": 20,
     "metadata": {},
     "output_type": "execute_result"
    }
   ],
   "source": [
    "random_tensor = torch.rand(size= (5, 5))\n",
    "random_tensor, random_tensor.dtype"
   ]
  },
  {
   "cell_type": "markdown",
   "id": "ff1035c9",
   "metadata": {},
   "source": [
    "Thử khởi tạo random tensor như là một bức ảnh điii"
   ]
  },
  {
   "cell_type": "code",
   "execution_count": 21,
   "id": "6b9e6865",
   "metadata": {},
   "outputs": [
    {
     "data": {
      "text/plain": [
       "(torch.Size([224, 224, 3]), 3)"
      ]
     },
     "execution_count": 21,
     "metadata": {},
     "output_type": "execute_result"
    }
   ],
   "source": [
    "random_image_size_tensor = torch.rand(size = (224,224,3))\n",
    "random_image_size_tensor.shape, random_image_size_tensor.ndim"
   ]
  },
  {
   "cell_type": "markdown",
   "id": "112f9b3a",
   "metadata": {},
   "source": [
    "### Zeros and ones\n",
    "\n",
    "Mình cũng có thể dùng hàm zeros và ones để tạo các tensor chỉ có toàn số 0 hoặc 1"
   ]
  },
  {
   "cell_type": "code",
   "execution_count": 23,
   "id": "cf18e94d",
   "metadata": {},
   "outputs": [
    {
     "data": {
      "text/plain": [
       "(tensor([[0., 0., 0., 0.],\n",
       "         [0., 0., 0., 0.],\n",
       "         [0., 0., 0., 0.]]),\n",
       " torch.float32)"
      ]
     },
     "execution_count": 23,
     "metadata": {},
     "output_type": "execute_result"
    }
   ],
   "source": [
    "zeros = torch.zeros(size=(3, 4))\n",
    "zeros, zeros.dtype"
   ]
  },
  {
   "cell_type": "code",
   "execution_count": 24,
   "id": "7031e793",
   "metadata": {},
   "outputs": [
    {
     "data": {
      "text/plain": [
       "(tensor([[1., 1., 1., 1.],\n",
       "         [1., 1., 1., 1.],\n",
       "         [1., 1., 1., 1.]]),\n",
       " torch.float32)"
      ]
     },
     "execution_count": 24,
     "metadata": {},
     "output_type": "execute_result"
    }
   ],
   "source": [
    "ones = torch.ones(size= (3, 4))\n",
    "ones, ones.dtype"
   ]
  },
  {
   "cell_type": "markdown",
   "id": "ef0332a6",
   "metadata": {},
   "source": [
    "### tạo một tensor với số trong khoảng định sẵn\n",
    "\n",
    "Mình sẽ sử dụng hàm torch.arange(start, end, step)"
   ]
  },
  {
   "cell_type": "code",
   "execution_count": 26,
   "id": "22b118b0",
   "metadata": {},
   "outputs": [
    {
     "data": {
      "text/plain": [
       "tensor([0, 1, 2, 3, 4, 5, 6, 7, 8, 9])"
      ]
     },
     "execution_count": 26,
     "metadata": {},
     "output_type": "execute_result"
    }
   ],
   "source": [
    "zero_to_ten = torch.arange(start = 0, end = 10, step = 1)\n",
    "zero_to_ten"
   ]
  },
  {
   "cell_type": "markdown",
   "id": "141464c7",
   "metadata": {},
   "source": [
    "Mình cũng có thể sử dụng hàm torch.zeros_like(input) hoặc torch.ones_like(input) để fill tất cả các phần tử trong tensor thành 0 hay 1"
   ]
  },
  {
   "cell_type": "code",
   "execution_count": 27,
   "id": "2e5e4469",
   "metadata": {},
   "outputs": [
    {
     "data": {
      "text/plain": [
       "tensor([0, 0, 0, 0, 0, 0, 0, 0, 0, 0])"
      ]
     },
     "execution_count": 27,
     "metadata": {},
     "output_type": "execute_result"
    }
   ],
   "source": [
    "full_zeros = torch.zeros_like(zero_to_ten)\n",
    "full_zeros"
   ]
  },
  {
   "cell_type": "code",
   "execution_count": 28,
   "id": "e3b2fa5e",
   "metadata": {},
   "outputs": [
    {
     "data": {
      "text/plain": [
       "tensor([1, 1, 1, 1, 1, 1, 1, 1, 1, 1])"
      ]
     },
     "execution_count": 28,
     "metadata": {},
     "output_type": "execute_result"
    }
   ],
   "source": [
    "full_ones = torch.ones_like(full_zeros)\n",
    "full_ones"
   ]
  },
  {
   "cell_type": "markdown",
   "id": "e40b4d75",
   "metadata": {},
   "source": [
    "## tensor datatypes\n",
    "\n",
    "trong pytorch có nhiều kiểu dữ liệu khác nhau như torch.cuda, torch.float32, torch.float, torch.half, torch.double, ..."
   ]
  },
  {
   "cell_type": "code",
   "execution_count": 29,
   "id": "8480b3fb",
   "metadata": {},
   "outputs": [
    {
     "data": {
      "text/plain": [
       "(torch.Size([3]), torch.float32, device(type='cpu'))"
      ]
     },
     "execution_count": 29,
     "metadata": {},
     "output_type": "execute_result"
    }
   ],
   "source": [
    "float32tensor = torch.tensor([3.0, 6.0, 9.0], dtype=None, device= None, requires_grad= False)\n",
    "float32tensor.shape, float32tensor.dtype, float32tensor.device"
   ]
  },
  {
   "cell_type": "markdown",
   "id": "239d5326",
   "metadata": {},
   "source": [
    "có thể thấy một tensor có rất nhiều thông tin\n",
    "\n",
    "shape: hình dạng của cái tensor\n",
    "\n",
    "dtype: kiểu dữ liệu của các phần tử ở trong tensor\n",
    "\n",
    "device: tensor được chứa ở đâu (CPU hay GPU)"
   ]
  },
  {
   "cell_type": "code",
   "execution_count": 30,
   "id": "f018dfc0",
   "metadata": {},
   "outputs": [
    {
     "name": "stdout",
     "output_type": "stream",
     "text": [
      "tensor([[0.1367, 0.4622, 0.1816, 0.2539, 0.1813],\n",
      "        [0.0105, 0.4051, 0.3134, 0.2074, 0.4514],\n",
      "        [0.5902, 0.7920, 0.8596, 0.7383, 0.9883]])\n",
      "torch.Size([3, 5]) torch.float32 cpu\n"
     ]
    }
   ],
   "source": [
    "some_tensor = torch.rand(3,5)\n",
    "\n",
    "print(some_tensor)\n",
    "print(some_tensor.shape, some_tensor.dtype, some_tensor.device)\n"
   ]
  }
 ],
 "metadata": {
  "kernelspec": {
   "display_name": "pytorch-env",
   "language": "python",
   "name": "python3"
  },
  "language_info": {
   "codemirror_mode": {
    "name": "ipython",
    "version": 3
   },
   "file_extension": ".py",
   "mimetype": "text/x-python",
   "name": "python",
   "nbconvert_exporter": "python",
   "pygments_lexer": "ipython3",
   "version": "3.10.19"
  }
 },
 "nbformat": 4,
 "nbformat_minor": 5
}
